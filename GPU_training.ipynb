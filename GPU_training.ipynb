{
  "nbformat": 4,
  "nbformat_minor": 0,
  "metadata": {
    "colab": {
      "provenance": [],
      "gpuType": "T4",
      "authorship_tag": "ABX9TyOEZKHMc4qtlrmi31NC6Hr8"
    },
    "kernelspec": {
      "name": "python3",
      "display_name": "Python 3"
    },
    "language_info": {
      "name": "python"
    },
    "accelerator": "GPU"
  },
  "cells": [
    {
      "cell_type": "code",
      "execution_count": 1,
      "metadata": {
        "id": "ivmVl3CjHMbk"
      },
      "outputs": [],
      "source": [
        "import torch"
      ]
    },
    {
      "cell_type": "code",
      "source": [
        "torch.cuda.is_available()"
      ],
      "metadata": {
        "id": "VtIMtFAuHXtQ",
        "colab": {
          "base_uri": "https://localhost:8080/"
        },
        "outputId": "87e01835-7bf7-410f-d58e-148e321023e4"
      },
      "execution_count": 2,
      "outputs": [
        {
          "output_type": "execute_result",
          "data": {
            "text/plain": [
              "True"
            ]
          },
          "metadata": {},
          "execution_count": 2
        }
      ]
    },
    {
      "cell_type": "code",
      "source": [
        "tensor_1 = torch.tensor([1,2,3])\n",
        "tensor_2 = torch.tensor([4,5,6])\n",
        "print(tensor_1 + tensor_2)"
      ],
      "metadata": {
        "colab": {
          "base_uri": "https://localhost:8080/"
        },
        "id": "Iw4IJBLrJC0I",
        "outputId": "e5e01be8-a933-4220-cf34-e553fb1bcbd0"
      },
      "execution_count": 3,
      "outputs": [
        {
          "output_type": "stream",
          "name": "stdout",
          "text": [
            "tensor([5, 7, 9])\n"
          ]
        }
      ]
    },
    {
      "cell_type": "code",
      "source": [
        "tensor1 = tensor_1.to('cuda')\n",
        "tensor2 = tensor_2.to('cuda')\n",
        "print(tensor1 + tensor2) # all tensors must be on the same device\n"
      ],
      "metadata": {
        "colab": {
          "base_uri": "https://localhost:8080/"
        },
        "id": "6taxFAL8LGF4",
        "outputId": "b836e38b-f2f1-45f2-e27d-eaafea81e69a"
      },
      "execution_count": 5,
      "outputs": [
        {
          "output_type": "stream",
          "name": "stdout",
          "text": [
            "tensor([5, 7, 9], device='cuda:0')\n"
          ]
        }
      ]
    },
    {
      "cell_type": "code",
      "source": [
        "# single gpu training"
      ],
      "metadata": {
        "id": "HY5dlnH7LO2s"
      },
      "execution_count": 7,
      "outputs": []
    },
    {
      "cell_type": "code",
      "source": [
        "# model\n",
        "class NeuralNetwork(torch.nn.Module):\n",
        "    def __init__(self,num_inputs,num_outputs):\n",
        "        super().__init__()\n",
        "\n",
        "        self.layers = torch.nn.Sequential(\n",
        "            torch.nn.Linear(num_inputs,30),\n",
        "            torch.nn.ReLU(),\n",
        "\n",
        "            torch.nn.Linear(30,20),\n",
        "            torch.nn.ReLU(),\n",
        "\n",
        "            torch.nn.Linear(20,num_outputs),\n",
        "\n",
        "        )\n",
        "\n",
        "\n",
        "    def forward(self,x):\n",
        "        logits = self.layers(x)\n",
        "        return logits\n",
        "# dataset\n",
        "from torch.utils.data import Dataset\n",
        "class ToyDataset(Dataset):\n",
        "    def __init__(self,X,y):\n",
        "        self.features = X\n",
        "        self.labels = y\n",
        "\n",
        "    def __getitem__(self,index):\n",
        "        one_x = self.features[index]\n",
        "        one_y = self.labels[index]\n",
        "        return one_x,one_y\n",
        "\n",
        "    def __len__(self):\n",
        "        return self.labels.shape[0]\n",
        "\n",
        "\n",
        "# data loader\n",
        "from torch.utils.data import DataLoader\n",
        "\n",
        "\n"
      ],
      "metadata": {
        "id": "Xkr88BgzMgNW"
      },
      "execution_count": 8,
      "outputs": []
    },
    {
      "cell_type": "code",
      "source": [
        "#data prep\n",
        "X_train = torch.tensor([\n",
        "    [-1.2, 3.1],\n",
        "    [-0.9, 2.9],\n",
        "    [-0.5, 2.6],\n",
        "    [2.3, -1.1],\n",
        "    [2.7, -1.5]\n",
        "])\n",
        "y_train = torch.tensor([0, 0, 0, 1, 1])\n",
        "\n",
        "X_test = torch.tensor([\n",
        "    [-0.8, 2.8],\n",
        "    [2.6, -1.6],\n",
        "])\n",
        "y_test = torch.tensor([0, 1])\n",
        "\n",
        "train_ds = ToyDataset(X_train, y_train)\n",
        "test_ds = ToyDataset(X_test, y_test)\n",
        "\n",
        "torch.manual_seed(123)\n",
        "\n",
        "train_loader = DataLoader(\n",
        "    dataset=train_ds,\n",
        "    batch_size=2,\n",
        "    shuffle=True,\n",
        "    num_workers=0\n",
        ")\n",
        "\n",
        "test_loader = DataLoader(\n",
        "    dataset=test_ds,\n",
        "    batch_size=2,\n",
        "    shuffle=False,\n",
        "    num_workers=0\n",
        ")"
      ],
      "metadata": {
        "id": "mQa_aIspPuLu"
      },
      "execution_count": 9,
      "outputs": []
    },
    {
      "cell_type": "code",
      "source": [
        "# gpu training on single device\n",
        "torch.manual_seed(123)\n",
        "model = NeuralNetwork(num_inputs=2, num_outputs = 2)\n",
        "\n",
        "device = torch.device('cuda')\n",
        "model = model.to(device)\n",
        "\n",
        "optimizer = torch.optim.SGD(model.parameters(),lr=0.5)\n",
        "\n",
        "num_epochs = 3\n",
        "\n",
        "for epoch in range(num_epochs):\n",
        "    model.train()\n",
        "\n",
        "    for batch_idx, (features, labels) in enumerate(train_loader):\n",
        "        features = features.to(device)\n",
        "        labels = labels.to(device)\n",
        "        logits = model(features) # model and features on the same device\n",
        "        loss = torch.nn.functional.cross_entropy(logits, labels)\n",
        "\n",
        "        optimizer.zero_grad()\n",
        "        loss.backward()\n",
        "        optimizer.step()\n",
        "\n",
        "        ### LOGGING\n",
        "        print(f\"Epoch: {epoch+1:03d}/{num_epochs:03d}\"\n",
        "              f\" | Batch {batch_idx:03d}/{len(train_loader):03d}\"\n",
        "              f\" | Train/Val Loss: {loss:.2f}\")\n",
        "    model.eval()\n",
        "\n"
      ],
      "metadata": {
        "colab": {
          "base_uri": "https://localhost:8080/"
        },
        "id": "RJObMvV_P84u",
        "outputId": "dd9811f8-59f1-4501-fea0-7ddb892517dd"
      },
      "execution_count": 12,
      "outputs": [
        {
          "output_type": "stream",
          "name": "stdout",
          "text": [
            "Epoch: 001/003 | Batch 000/003 | Train/Val Loss: 0.75\n",
            "Epoch: 001/003 | Batch 001/003 | Train/Val Loss: 0.65\n",
            "Epoch: 001/003 | Batch 002/003 | Train/Val Loss: 0.42\n",
            "Epoch: 002/003 | Batch 000/003 | Train/Val Loss: 0.05\n",
            "Epoch: 002/003 | Batch 001/003 | Train/Val Loss: 0.13\n",
            "Epoch: 002/003 | Batch 002/003 | Train/Val Loss: 0.00\n",
            "Epoch: 003/003 | Batch 000/003 | Train/Val Loss: 0.01\n",
            "Epoch: 003/003 | Batch 001/003 | Train/Val Loss: 0.00\n",
            "Epoch: 003/003 | Batch 002/003 | Train/Val Loss: 0.02\n"
          ]
        }
      ]
    },
    {
      "cell_type": "code",
      "source": [
        "# multiple gpu only in python"
      ],
      "metadata": {
        "id": "pSd_-Q73RSFI"
      },
      "execution_count": null,
      "outputs": []
    }
  ]
}