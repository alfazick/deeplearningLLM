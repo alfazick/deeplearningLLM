{
  "nbformat": 4,
  "nbformat_minor": 0,
  "metadata": {
    "colab": {
      "provenance": [],
      "authorship_tag": "ABX9TyM6RbsdcVZhhk+K6c97qCV7"
    },
    "kernelspec": {
      "name": "python3",
      "display_name": "Python 3"
    },
    "language_info": {
      "name": "python"
    }
  },
  "cells": [
    {
      "cell_type": "code",
      "execution_count": 1,
      "metadata": {
        "id": "446nFBwDKSnB"
      },
      "outputs": [],
      "source": [
        "# a model is represented by a regular Python class that inherits from the Module class"
      ]
    },
    {
      "cell_type": "code",
      "source": [
        "# 1) __init__ intitialize the model, 2) forward(make predictions to use model(x))"
      ],
      "metadata": {
        "id": "c2i-cah5KeFK"
      },
      "execution_count": 2,
      "outputs": []
    },
    {
      "cell_type": "code",
      "source": [],
      "metadata": {
        "id": "0meoue7PLw1J"
      },
      "execution_count": null,
      "outputs": []
    },
    {
      "cell_type": "code",
      "source": [
        "import torch\n",
        "import torch.nn as nn\n",
        "class ManualLinearRegression(nn.Module):\n",
        "    def __init__(self):\n",
        "        super().__init__()\n",
        "\n",
        "        # to make b and w real parameters we need to wrap with nn.Parameter\n",
        "\n",
        "        self.b = nn.Parameter(torch.randn(1,requires_grad=True,dtype=torch.float))\n",
        "        self.w = nn.Parameter(torch.randn(1,requires_grad=True,dtype=torch.float))\n",
        "\n",
        "    def forward(self,x):\n",
        "        #Computes the outputs / predictions\n",
        "        return self.w*x + self.b"
      ],
      "metadata": {
        "id": "r4wowJymLNlw"
      },
      "execution_count": 4,
      "outputs": []
    },
    {
      "cell_type": "code",
      "source": [
        "torch.manual_seed(42)\n",
        "dummy = ManualLinearRegression()\n",
        "list(dummy.parameters())"
      ],
      "metadata": {
        "colab": {
          "base_uri": "https://localhost:8080/"
        },
        "id": "hbXrFpjVLxuc",
        "outputId": "cfe45bcd-63c5-4bfd-a88f-f4d13f8031ff"
      },
      "execution_count": 6,
      "outputs": [
        {
          "output_type": "execute_result",
          "data": {
            "text/plain": [
              "[Parameter containing:\n",
              " tensor([0.3367], requires_grad=True),\n",
              " Parameter containing:\n",
              " tensor([0.1288], requires_grad=True)]"
            ]
          },
          "metadata": {},
          "execution_count": 6
        }
      ]
    },
    {
      "cell_type": "code",
      "source": [
        "dummy.state_dict() # keeps track only learnable parameters, grad=true\n"
      ],
      "metadata": {
        "colab": {
          "base_uri": "https://localhost:8080/"
        },
        "id": "6ZKEcPyfMMLJ",
        "outputId": "48fe810c-87c9-438a-e891-ea367f1ba94d"
      },
      "execution_count": 7,
      "outputs": [
        {
          "output_type": "execute_result",
          "data": {
            "text/plain": [
              "OrderedDict([('b', tensor([0.3367])), ('w', tensor([0.1288]))])"
            ]
          },
          "metadata": {},
          "execution_count": 7
        }
      ]
    },
    {
      "cell_type": "code",
      "source": [
        "import torch.optim as optim\n",
        "optimizer = optim.SGD(dummy.parameters(),lr=1e-1)\n",
        "print(optimizer.state_dict())"
      ],
      "metadata": {
        "colab": {
          "base_uri": "https://localhost:8080/"
        },
        "id": "poInDRh8MWCg",
        "outputId": "8234c3a3-2a35-47fc-9b69-03d4f992f85b"
      },
      "execution_count": 9,
      "outputs": [
        {
          "output_type": "stream",
          "name": "stdout",
          "text": [
            "{'state': {}, 'param_groups': [{'lr': 0.1, 'momentum': 0, 'dampening': 0, 'weight_decay': 0, 'nesterov': False, 'maximize': False, 'foreach': None, 'differentiable': False, 'fused': None, 'params': [0, 1]}]}\n"
          ]
        }
      ]
    },
    {
      "cell_type": "code",
      "source": [
        "import numpy as np\n",
        "# Generate synthetic house price data\n",
        "num_points = 100\n",
        "square_feet = np.random.uniform(500, 5000, num_points)\n",
        "price = 100 + 200 * square_feet + np.random.normal(0, 50000, num_points)\n",
        "\n",
        "# Convert to tensors and reshape\n",
        "X = torch.FloatTensor(square_feet.reshape(-1, 1))\n",
        "y = torch.FloatTensor(price.reshape(-1, 1))\n",
        "# Simple scaling - divide by maximum value\n",
        "X = X / torch.max(X)\n",
        "y = y / torch.max(y)\n"
      ],
      "metadata": {
        "id": "u4pf-ZqVMwpk"
      },
      "execution_count": 25,
      "outputs": []
    },
    {
      "cell_type": "code",
      "source": [
        "import torch\n",
        "import torch.nn as nn\n",
        "class ManualLinearRegression(nn.Module):\n",
        "    def __init__(self):\n",
        "        super().__init__()\n",
        "\n",
        "        # to make b and w real parameters we need to wrap with nn.Parameter\n",
        "\n",
        "        self.b = nn.Parameter(torch.randn(1,requires_grad=True,dtype=torch.float))\n",
        "        self.w = nn.Parameter(torch.randn(1,requires_grad=True,dtype=torch.float))\n",
        "\n",
        "    def forward(self,x):\n",
        "        #Computes the outputs / predictions\n",
        "        return self.w*x + self.b"
      ],
      "metadata": {
        "id": "RYig21RXN0mu"
      },
      "execution_count": 26,
      "outputs": []
    },
    {
      "cell_type": "code",
      "source": [
        "model = ManualLinearRegression()\n",
        "loss_fn = nn.MSELoss()\n",
        "optimizer = optim.SGD(model.parameters(),lr=1e-1)\n",
        "# Print initial parameters\n",
        "print(\"Initial parameters:\")\n",
        "print(f\"w = {model.w.item():.4f}\")\n",
        "print(f\"b = {model.b.item():.4f}\\n\")\n"
      ],
      "metadata": {
        "colab": {
          "base_uri": "https://localhost:8080/"
        },
        "id": "cm71_YUONI0s",
        "outputId": "d779bed6-54d4-4ca5-a9ef-f4d24eda2f1b"
      },
      "execution_count": 27,
      "outputs": [
        {
          "output_type": "stream",
          "name": "stdout",
          "text": [
            "Initial parameters:\n",
            "w = -0.6380\n",
            "b = 2.2082\n",
            "\n"
          ]
        }
      ]
    },
    {
      "cell_type": "code",
      "source": [
        "n_epochs = 1000\n",
        "losses = list()\n",
        "\n",
        "for epoch in range(n_epochs):\n",
        "    model.train()\n",
        "    yhat = model(X)\n",
        "    loss = loss_fn(yhat,y)\n",
        "    losses.append(loss.item())\n",
        "    loss.backward()\n",
        "    optimizer.step()\n",
        "    optimizer.zero_grad()\n",
        "\n",
        "    # Print progress every 100 epochs\n",
        "    if (epoch + 1) % 100 == 0:\n",
        "        print(f'Epoch [{epoch+1}/{n_epochs}], Loss: {loss.item():.4f}')\n",
        "        print(f'w = {model.w.item():.4f}, b = {model.b.item():.4f}')\n",
        "\n"
      ],
      "metadata": {
        "colab": {
          "base_uri": "https://localhost:8080/"
        },
        "id": "i6RFrLRVOFof",
        "outputId": "5251cde5-9a5d-4c61-8bfa-342ccea0b91b"
      },
      "execution_count": 28,
      "outputs": [
        {
          "output_type": "stream",
          "name": "stdout",
          "text": [
            "Epoch [100/1000], Loss: 0.0406\n",
            "w = 0.1991, b = 0.4141\n",
            "Epoch [200/1000], Loss: 0.0066\n",
            "w = 0.6763, b = 0.1361\n",
            "Epoch [300/1000], Loss: 0.0027\n",
            "w = 0.8383, b = 0.0417\n",
            "Epoch [400/1000], Loss: 0.0023\n",
            "w = 0.8933, b = 0.0097\n",
            "Epoch [500/1000], Loss: 0.0022\n",
            "w = 0.9120, b = -0.0012\n",
            "Epoch [600/1000], Loss: 0.0022\n",
            "w = 0.9183, b = -0.0049\n",
            "Epoch [700/1000], Loss: 0.0022\n",
            "w = 0.9205, b = -0.0061\n",
            "Epoch [800/1000], Loss: 0.0022\n",
            "w = 0.9212, b = -0.0066\n",
            "Epoch [900/1000], Loss: 0.0022\n",
            "w = 0.9215, b = -0.0067\n",
            "Epoch [1000/1000], Loss: 0.0022\n",
            "w = 0.9216, b = -0.0068\n"
          ]
        }
      ]
    },
    {
      "cell_type": "code",
      "source": [
        "import torch\n",
        "import torch.nn as nn\n",
        "import torch.optim as optim\n",
        "import numpy as np\n",
        "import matplotlib.pyplot as plt\n",
        "from sklearn.preprocessing import StandardScaler\n",
        "\n",
        "# Set random seeds for reproducibility\n",
        "torch.manual_seed(42)\n",
        "np.random.seed(42)\n",
        "\n",
        "class ManualLinearRegression(nn.Module):\n",
        "    def __init__(self):\n",
        "        super().__init__()\n",
        "        # Initialize parameters to zeros\n",
        "        self.b = nn.Parameter(torch.zeros(1, dtype=torch.float))\n",
        "        self.w = nn.Parameter(torch.zeros(1, dtype=torch.float))\n",
        "\n",
        "    def forward(self, x):\n",
        "        # Computes the outputs / predictions\n",
        "        return self.w * x + self.b\n",
        "\n",
        "# Generate synthetic house price data\n",
        "num_points = 100\n",
        "square_feet = np.random.uniform(500, 5000, num_points)\n",
        "price = 100 + 200 * square_feet + np.random.normal(0, 10000, num_points)  # Reduced noise\n",
        "\n",
        "# Convert to numpy arrays and reshape\n",
        "X = square_feet.reshape(-1, 1)\n",
        "y = price.reshape(-1, 1)\n",
        "\n",
        "# Initialize scalers\n",
        "X_scaler = StandardScaler()\n",
        "y_scaler = StandardScaler()\n",
        "\n",
        "# Fit and transform data\n",
        "X_normalized = X_scaler.fit_transform(X)\n",
        "y_normalized = y_scaler.fit_transform(y)\n",
        "\n",
        "# Convert numpy arrays to torch tensors\n",
        "X_normalized = torch.from_numpy(X_normalized).float()\n",
        "y_normalized = torch.from_numpy(y_normalized).float()\n",
        "\n",
        "# Initialize model, loss, and optimizer\n",
        "model = ManualLinearRegression()\n",
        "loss_fn = nn.MSELoss(reduction='mean')\n",
        "lr = 0.01  # Adjusted learning rate\n",
        "optimizer = optim.SGD(model.parameters(), lr=lr)\n",
        "\n",
        "# Training loop\n",
        "n_epochs = 1000\n",
        "losses = []\n",
        "\n",
        "for epoch in range(n_epochs):\n",
        "    model.train() # sets model for training mode\n",
        "    optimizer.zero_grad()\n",
        "\n",
        "    # Forward pass\n",
        "    yhat = model(X_normalized)\n",
        "\n",
        "    # Compute loss\n",
        "    loss = loss_fn(yhat, y_normalized)\n",
        "    losses.append(loss.item())\n",
        "\n",
        "    # Backward pass\n",
        "    loss.backward()\n",
        "\n",
        "    # Update parameters\n",
        "    optimizer.step()\n",
        "\n",
        "    # Print progress every 100 epochs\n",
        "    if (epoch + 1) % 100 == 0:\n",
        "        print(f'Epoch [{epoch+1}/{n_epochs}], Loss: {loss.item():.4f}')\n",
        "        print(f'w = {model.w.item():.4f}, b = {model.b.item():.4f}')\n",
        "\n",
        "# Get the final learned parameters\n",
        "final_w = model.w.item()\n",
        "final_b = model.b.item()\n",
        "\n",
        "# Convert parameters back to original scale\n",
        "original_w = final_w * (y_scaler.scale_[0] / X_scaler.scale_[0])\n",
        "original_b = y_scaler.inverse_transform([[final_b]])[0][0] - original_w * X_scaler.mean_[0]\n",
        "\n",
        "print(f'\\nFinal learned parameters (in original scale):')\n",
        "print(f'w = {original_w:.4f} (true w ≈ 200)')\n",
        "print(f'b = {original_b:.4f} (true b ≈ 100)')\n",
        "\n",
        "# Make predictions\n",
        "model.eval()\n",
        "with torch.no_grad():\n",
        "    y_pred_normalized = model(X_normalized)\n",
        "    # Convert predictions back to original scale\n",
        "    y_pred = y_scaler.inverse_transform(y_pred_normalized.numpy())\n",
        "\n",
        "# Plotting\n",
        "plt.figure(figsize=(12, 5))\n",
        "\n",
        "# Plot 1: Training Data and Regression Line\n",
        "plt.subplot(1, 2, 1)\n",
        "plt.scatter(X, y, alpha=0.5, label='Data points')\n",
        "plt.plot(X, y_pred, 'r', label='Regression line')\n",
        "plt.xlabel('Square Feet')\n",
        "plt.ylabel('Price ($)')\n",
        "plt.title('House Prices vs Square Feet')\n",
        "plt.legend()\n",
        "\n",
        "# Plot 2: Loss History\n",
        "plt.subplot(1, 2, 2)\n",
        "plt.plot(losses)\n",
        "plt.xlabel('Epoch')\n",
        "plt.ylabel('Loss')\n",
        "plt.title('Training Loss Over Time')\n",
        "plt.yscale('log')\n",
        "\n",
        "plt.tight_layout()\n",
        "plt.show()\n",
        "\n",
        "# Example predictions\n",
        "test_sizes = np.array([[1000], [2000], [3000], [4000]])\n",
        "test_normalized = X_scaler.transform(test_sizes)\n",
        "test_normalized = torch.from_numpy(test_normalized).float()\n",
        "with torch.no_grad():\n",
        "    pred_normalized = model(test_normalized)\n",
        "    predicted_prices = y_scaler.inverse_transform(pred_normalized.numpy())\n",
        "\n",
        "print(\"\\nExample Predictions:\")\n",
        "for size, price in zip(test_sizes, predicted_prices):\n",
        "    print(f\"House size: {size[0]:.0f} sq ft => Predicted price: ${price[0]:.2f}\")\n"
      ],
      "metadata": {
        "colab": {
          "base_uri": "https://localhost:8080/",
          "height": 1000
        },
        "id": "nCaMHLB7Ouxk",
        "outputId": "352be68b-2f18-4951-ac36-b3ee6b798ca9"
      },
      "execution_count": 35,
      "outputs": [
        {
          "output_type": "stream",
          "name": "stdout",
          "text": [
            "Epoch [100/1000], Loss: 0.0194\n",
            "w = 0.8669, b = 0.0000\n",
            "Epoch [200/1000], Loss: 0.0015\n",
            "w = 0.9818, b = 0.0000\n",
            "Epoch [300/1000], Loss: 0.0012\n",
            "w = 0.9971, b = -0.0000\n",
            "Epoch [400/1000], Loss: 0.0011\n",
            "w = 0.9991, b = -0.0000\n",
            "Epoch [500/1000], Loss: 0.0011\n",
            "w = 0.9994, b = -0.0000\n",
            "Epoch [600/1000], Loss: 0.0011\n",
            "w = 0.9994, b = -0.0000\n",
            "Epoch [700/1000], Loss: 0.0011\n",
            "w = 0.9994, b = -0.0000\n",
            "Epoch [800/1000], Loss: 0.0011\n",
            "w = 0.9994, b = 0.0000\n",
            "Epoch [900/1000], Loss: 0.0011\n",
            "w = 0.9994, b = 0.0000\n",
            "Epoch [1000/1000], Loss: 0.0011\n",
            "w = 0.9994, b = 0.0000\n",
            "\n",
            "Final learned parameters (in original scale):\n",
            "w = 198.9780 (true w ≈ 200)\n",
            "b = 2762.5714 (true b ≈ 100)\n"
          ]
        },
        {
          "output_type": "display_data",
          "data": {
            "text/plain": [
              "<Figure size 1200x500 with 2 Axes>"
            ],
            "image/png": "[encoded data removed]"
          },
          "metadata": {}
        },
        {
          "output_type": "stream",
          "name": "stdout",
          "text": [
            "\n",
            "Example Predictions:\n",
            "House size: 1000 sq ft => Predicted price: $201740.55\n",
            "House size: 2000 sq ft => Predicted price: $400718.56\n",
            "House size: 3000 sq ft => Predicted price: $599696.56\n",
            "House size: 4000 sq ft => Predicted price: $798674.56\n"
          ]
        }
      ]
    },
    {
      "cell_type": "code",
      "source": [
        "# Model Types\n",
        "\n",
        "class MyLinearRegression(nn.Module):\n",
        "    def __init__(self):\n",
        "        super().__init__()\n",
        "        self.linear = nn.Linear(1,1)\n",
        "\n",
        "    def forward(self,x):\n",
        "        return self.linear(x)"
      ],
      "metadata": {
        "id": "VEbiQ1KaOwER"
      },
      "execution_count": 39,
      "outputs": []
    },
    {
      "cell_type": "code",
      "source": [
        "# Initialize model, loss, and optimizer\n",
        "model = MyLinearRegression()\n",
        "loss_fn = nn.MSELoss(reduction='mean')\n",
        "lr = 0.01  # Adjusted learning rate\n",
        "optimizer = optim.SGD(model.parameters(), lr=lr)\n",
        "\n",
        "# Training loop\n",
        "n_epochs = 1000\n",
        "losses = []\n",
        "\n",
        "for epoch in range(n_epochs):\n",
        "    model.train() # sets model for training mode\n",
        "    optimizer.zero_grad()\n",
        "\n",
        "    # Forward pass\n",
        "    yhat = model(X_normalized)\n",
        "\n",
        "    # Compute loss\n",
        "    loss = loss_fn(yhat, y_normalized)\n",
        "    losses.append(loss.item())\n",
        "\n",
        "    # Backward pass\n",
        "    loss.backward()\n",
        "\n",
        "    # Update parameters\n",
        "    optimizer.step()\n",
        "\n",
        "\n",
        "# Get the final learned parameters\n",
        "list(model.state_dict().values())"
      ],
      "metadata": {
        "colab": {
          "base_uri": "https://localhost:8080/"
        },
        "id": "U2Sa95wtP3Ut",
        "outputId": "e9d11455-d0d0-48e4-86ba-0b6d004e4d17"
      },
      "execution_count": 45,
      "outputs": [
        {
          "output_type": "execute_result",
          "data": {
            "text/plain": [
              "[tensor([[0.9994]]), tensor([1.4850e-08])]"
            ]
          },
          "metadata": {},
          "execution_count": 45
        }
      ]
    },
    {
      "cell_type": "code",
      "source": [
        "import torch\n",
        "import torch.nn as nn\n",
        "\n",
        "device = 'cuda' if torch.cuda.is_available() else 'cpu'\n",
        "torch.manual_seed(42)\n",
        "# Alternatively, you can use a Sequential model\n",
        "model = nn.Sequential(nn.Linear(1, 1)).to(device) # any internal model is a layer\n",
        "print(model.state_dict())"
      ],
      "metadata": {
        "colab": {
          "base_uri": "https://localhost:8080/"
        },
        "id": "k820PZowTKrx",
        "outputId": "df2c67b3-7027-4492-dbf6-4893a2ee2115"
      },
      "execution_count": 47,
      "outputs": [
        {
          "output_type": "stream",
          "name": "stdout",
          "text": [
            "OrderedDict([('0.weight', tensor([[0.7645]])), ('0.bias', tensor([0.8300]))])\n"
          ]
        }
      ]
    },
    {
      "cell_type": "code",
      "source": [
        "import torch\n",
        "import torch.nn as nn\n",
        "\n",
        "device = 'cuda' if torch.cuda.is_available() else 'cpu'\n",
        "torch.manual_seed(42)\n",
        "model = nn.Sequential(nn.Linear(2, 2)).to(device)\n",
        "print(model.state_dict())"
      ],
      "metadata": {
        "colab": {
          "base_uri": "https://localhost:8080/"
        },
        "id": "CAFAM4JqT2UZ",
        "outputId": "ceb15dca-3d3f-4ad9-b14c-9100b37c0a6d"
      },
      "execution_count": 48,
      "outputs": [
        {
          "output_type": "stream",
          "name": "stdout",
          "text": [
            "OrderedDict([('0.weight', tensor([[ 0.5406,  0.5869],\n",
            "        [-0.1657,  0.6496]])), ('0.bias', tensor([-0.1549,  0.1427]))])\n"
          ]
        }
      ]
    },
    {
      "cell_type": "code",
      "source": [
        "# layers\n",
        "import torch\n",
        "import torch.nn as nn\n",
        "\n",
        "device = 'cuda' if torch.cuda.is_available() else 'cpu'\n",
        "\n",
        "torch.manual_seed(42)\n",
        "# Building the model from the figure above\n",
        "model = nn.Sequential(nn.Linear(3, 5), nn.Linear(5, 1)).to(device)\n",
        "print(model.state_dict())"
      ],
      "metadata": {
        "colab": {
          "base_uri": "https://localhost:8080/"
        },
        "id": "-P9UnZWfUKF6",
        "outputId": "acca3c86-b5ff-40fa-b27a-9f381e4ee10f"
      },
      "execution_count": 49,
      "outputs": [
        {
          "output_type": "stream",
          "name": "stdout",
          "text": [
            "OrderedDict([('0.weight', tensor([[ 0.4414,  0.4792, -0.1353],\n",
            "        [ 0.5304, -0.1265,  0.1165],\n",
            "        [-0.2811,  0.3391,  0.5090],\n",
            "        [-0.4236,  0.5018,  0.1081],\n",
            "        [ 0.4266,  0.0782,  0.2784]])), ('0.bias', tensor([-0.0815,  0.4451,  0.0853, -0.2695,  0.1472])), ('1.weight', tensor([[-0.2060, -0.0524, -0.1816,  0.2967, -0.3530]])), ('1.bias', tensor([-0.2062]))])\n"
          ]
        }
      ]
    },
    {
      "cell_type": "code",
      "source": [
        "# naming layers\n",
        "import torch\n",
        "import torch.nn as nn\n",
        "\n",
        "device = 'cuda' if torch.cuda.is_available() else 'cpu'\n",
        "\n",
        "torch.manual_seed(42)\n",
        "# Building the model from the figure above\n",
        "model = nn.Sequential()\n",
        "model.add_module('layer1', nn.Linear(3, 5))\n",
        "model.add_module('layer2', nn.Linear(5, 1))\n",
        "print(model.to(device))"
      ],
      "metadata": {
        "colab": {
          "base_uri": "https://localhost:8080/"
        },
        "id": "6dx4l1DaUe8s",
        "outputId": "588191e6-d79b-43ae-f624-62d0a7ccf065"
      },
      "execution_count": 50,
      "outputs": [
        {
          "output_type": "stream",
          "name": "stdout",
          "text": [
            "Sequential(\n",
            "  (layer1): Linear(in_features=3, out_features=5, bias=True)\n",
            "  (layer2): Linear(in_features=5, out_features=1, bias=True)\n",
            ")\n"
          ]
        }
      ]
    },
    {
      "cell_type": "code",
      "source": [],
      "metadata": {
        "id": "5siQFa1lUlqd"
      },
      "execution_count": null,
      "outputs": []
    }
  ]
}